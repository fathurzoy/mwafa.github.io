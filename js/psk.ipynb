{
 "cells": [
  {
   "cell_type": "code",
   "execution_count": 2,
   "metadata": {},
   "outputs": [],
   "source": [
    "import numpy as np\n",
    "import matplotlib.pyplot as plt\n",
    "from ipywidgets import interact, interactive, fixed, interact_manual\n",
    "from IPython import embed"
   ]
  },
  {
   "cell_type": "code",
   "execution_count": 3,
   "metadata": {},
   "outputs": [
    {
     "data": {
      "application/vnd.jupyter.widget-view+json": {
       "model_id": "68fbb184f30d41cd985d533977b8f9d8",
       "version_major": 2,
       "version_minor": 0
      },
      "text/html": [
       "<p>Failed to display Jupyter Widget of type <code>interactive</code>.</p>\n",
       "<p>\n",
       "  If you're reading this message in the Jupyter Notebook or JupyterLab Notebook, it may mean\n",
       "  that the widgets JavaScript is still loading. If this message persists, it\n",
       "  likely means that the widgets JavaScript library is either not installed or\n",
       "  not enabled. See the <a href=\"https://ipywidgets.readthedocs.io/en/stable/user_install.html\">Jupyter\n",
       "  Widgets Documentation</a> for setup instructions.\n",
       "</p>\n",
       "<p>\n",
       "  If you're reading this message in another frontend (for example, a static\n",
       "  rendering on GitHub or <a href=\"https://nbviewer.jupyter.org/\">NBViewer</a>),\n",
       "  it may mean that your frontend doesn't currently support widgets.\n",
       "</p>\n"
      ],
      "text/plain": [
       "interactive(children=(Text(value='1110101011010', description='key'), FloatSlider(value=1.5707963267948966, description='phase', max=3.141592653589793), Output()), _dom_classes=('widget-interact',))"
      ]
     },
     "metadata": {},
     "output_type": "display_data"
    }
   ],
   "source": [
    "cek = lambda x,f:[np.sin(a+f) for a in np.linspace(0,2*np.pi*x,200)] #generator signal\n",
    "kotak = lambda x,f:[1 if la > 0 else -1 for la in cek(x/2,f)]\n",
    "\n",
    "def buat(key,phase):\n",
    "    sig = []\n",
    "    kot = []\n",
    "    for i in key:\n",
    "        if(int(i) == 1):\n",
    "            sig+= cek(1,0)\n",
    "            kot+= kotak(1,0)\n",
    "        else:\n",
    "            sig+= cek(-1,0)\n",
    "            kot+= kotak(-1,0)\n",
    "    ceker = cek(1,phase)*len(key)\n",
    "    plt.figure(figsize=(12,8))\n",
    "    plt.subplot(221)\n",
    "    plt.plot(kot)\n",
    "    plt.subplot(222)\n",
    "    plt.plot(sig)\n",
    "    \n",
    "    plt.subplot(223)\n",
    "    \n",
    "    plt.plot(ceker)\n",
    "    \n",
    "    plt.ylim(-2,2)\n",
    "    plt.subplot(224)\n",
    "    return plt.plot(np.array(sig)-np.array(ceker))\n",
    "    \n",
    "\n",
    "lala = interactive(buat,phase=(.0,np.pi),key=\"1110101011010\")\n",
    "lala"
   ]
  },
  {
   "cell_type": "code",
   "execution_count": null,
   "metadata": {},
   "outputs": [],
   "source": []
  }
 ],
 "metadata": {
  "kernelspec": {
   "display_name": "Python 3",
   "language": "python",
   "name": "python3"
  },
  "language_info": {
   "codemirror_mode": {
    "name": "ipython",
    "version": 3
   },
   "file_extension": ".py",
   "mimetype": "text/x-python",
   "name": "python",
   "nbconvert_exporter": "python",
   "pygments_lexer": "ipython3",
   "version": "3.6.4"
  }
 },
 "nbformat": 4,
 "nbformat_minor": 2
}
